{
 "cells": [
  {
   "cell_type": "markdown",
   "metadata": {},
   "source": [
    "# Create Virtual Environment (Optional)\n",
    "Execute following script in terminal\n",
    "\n",
    "```bash\n",
    "python3 -m venv python_sdk\n",
    "```"
   ]
  },
  {
   "cell_type": "markdown",
   "metadata": {},
   "source": [
    "# Activate virtual environment\n",
    "Execute following script in terminal\n",
    "\n",
    "```bash\n",
    "source python_sdk/bin/activate\n",
    "```"
   ]
  },
  {
   "cell_type": "markdown",
   "metadata": {},
   "source": [
    "# Install module ipykernel\n",
    "Execute following script in terminal\n",
    "\n",
    "```bash\n",
    "python3 -m pip install ipykernel\n",
    "```"
   ]
  },
  {
   "cell_type": "markdown",
   "metadata": {},
   "source": [
    "# Install Python SDK libraries using pip"
   ]
  },
  {
   "cell_type": "code",
   "execution_count": null,
   "metadata": {},
   "outputs": [],
   "source": [
    "import sys\n",
    "!{sys.executable} -m pip install gooddata-sdk\n",
    "!{sys.executable} -m pip install gooddata-pandas\n",
    "\n",
    "# Additional libraries\n",
    "!{sys.executable} -m pip install matplotlib\n",
    "!{sys.executable} -m pip install scikit-learn"
   ]
  },
  {
   "cell_type": "code",
   "execution_count": 1,
   "metadata": {},
   "outputs": [
    {
     "name": "stderr",
     "output_type": "stream",
     "text": [
      "/Library/Frameworks/Python.framework/Versions/3.10/lib/python3.10/site-packages/gooddata_pandas/utils.py:9: FutureWarning: pandas.core.index is deprecated and will be removed in a future version. The public classes are available in the top-level namespace.\n",
      "  from pandas.core.index import Index, MultiIndex\n"
     ]
    }
   ],
   "source": [
    "# Import Python SDK libraries\n",
    "from gooddata_sdk import GoodDataSdk\n",
    "from gooddata_pandas import GoodPandas"
   ]
  },
  {
   "cell_type": "code",
   "execution_count": 3,
   "metadata": {},
   "outputs": [],
   "source": [
    "HOST = \"https://demo.cloud.gooddata.com\"\n",
    "TOKEN = \"bWFydGluLnN2YWRsZW5rYTpteW5ld3Rva2VuOklOT3lpNDlOVWQ4eXV0eFkzWm9QcFN4YkFaWEFWcmVD\"\n",
    "WORKSPACE_ID = \"cab-olympics\"\n",
    "\n",
    "sdk = GoodDataSdk.create(HOST, TOKEN)\n",
    "catalog = sdk.catalog.get_full_catalog(WORKSPACE_ID)\n",
    "insights = sdk.insights.get_insights(WORKSPACE_ID)"
   ]
  },
  {
   "cell_type": "code",
   "execution_count": 6,
   "metadata": {},
   "outputs": [
    {
     "name": "stdout",
     "output_type": "stream",
     "text": [
      "CatalogDataset(id=competition, title=Competition, facts=[CatalogFact(id=competition_athlete_weight, title=Competition athlete weight), CatalogFact(id=competition_athlete_age_fact, title=Competition athlete age fact), CatalogFact(id=competition_athlete_height, title=Competition athlete height)], attributes=[CatalogAttribute(id=competition_id, title=Competition id, labels=[CatalogLabel(id=competition_id, title=label)]), CatalogAttribute(id=competition_athlete_age, title=Competition athlete age, labels=[CatalogLabel(id=competition_athlete_age, title=label)]), CatalogAttribute(id=competition_athlete_sex, title=Competition athlete sex, labels=[CatalogLabel(id=competition_athlete_sex, title=label)])])\n",
      "CatalogDataset(id=athlete, title=Athlete, facts=[], attributes=[CatalogAttribute(id=athlete_original_id, title=Athlete original id, labels=[CatalogLabel(id=athlete_original_id, title=label)]), CatalogAttribute(id=athlete_name, title=Athlete name, labels=[CatalogLabel(id=athlete_name, title=label)]), CatalogAttribute(id=athlete_id, title=Athlete id, labels=[CatalogLabel(id=athlete_id, title=label)])])\n",
      "CatalogDataset(id=sport, title=Sport, facts=[], attributes=[CatalogAttribute(id=sport_name, title=Sport name, labels=[CatalogLabel(id=sport_name, title=label)]), CatalogAttribute(id=sport_id, title=Sport id, labels=[CatalogLabel(id=sport_id, title=label)])])\n",
      "CatalogDataset(id=team, title=Team, facts=[], attributes=[CatalogAttribute(id=team_name, title=Team name, labels=[CatalogLabel(id=team_name, title=label)]), CatalogAttribute(id=team_id, title=Team id, labels=[CatalogLabel(id=team_id, title=label)])])\n",
      "CatalogDataset(id=games, title=Games, facts=[], attributes=[CatalogAttribute(id=games_name, title=Games name, labels=[CatalogLabel(id=games_name, title=label)]), CatalogAttribute(id=games_city, title=Games city, labels=[CatalogLabel(id=games_city, title=label)]), CatalogAttribute(id=games_year, title=Games year, labels=[CatalogLabel(id=games_year, title=label)]), CatalogAttribute(id=games_season, title=Games season, labels=[CatalogLabel(id=games_season, title=label)]), CatalogAttribute(id=games_id, title=Games id, labels=[CatalogLabel(id=games_id, title=label)])])\n",
      "CatalogDataset(id=noc, title=Noc, facts=[], attributes=[CatalogAttribute(id=noc_name, title=Noc name, labels=[CatalogLabel(id=noc_name, title=label)]), CatalogAttribute(id=noc_notes, title=Noc notes, labels=[CatalogLabel(id=noc_notes, title=label)]), CatalogAttribute(id=noc_id, title=Noc id, labels=[CatalogLabel(id=noc_id, title=label)]), CatalogAttribute(id=noc_code, title=Noc code, labels=[CatalogLabel(id=noc_code, title=label)])])\n",
      "CatalogDataset(id=medal, title=Medal, facts=[], attributes=[CatalogAttribute(id=medal_name, title=Medal name, labels=[CatalogLabel(id=medal_name, title=label)]), CatalogAttribute(id=medal_id, title=Medal id, labels=[CatalogLabel(id=medal_id, title=label)])])\n",
      "CatalogDataset(id=event, title=Event, facts=[], attributes=[CatalogAttribute(id=event_name, title=Event name, labels=[CatalogLabel(id=event_name, title=label)]), CatalogAttribute(id=event_id, title=Event id, labels=[CatalogLabel(id=event_id, title=label)])])\n"
     ]
    }
   ],
   "source": [
    "# read catalog for demo workspace\n",
    "catalog = sdk.catalog.get_full_catalog(WORKSPACE_ID)\n",
    "\n",
    "# print all dataset in the workspace\n",
    "for dataset in catalog.datasets:\n",
    "    print(str(dataset))"
   ]
  },
  {
   "cell_type": "code",
   "execution_count": 11,
   "metadata": {},
   "outputs": [
    {
     "name": "stdout",
     "output_type": "stream",
     "text": [
      "Searched word medal was found in following metrics:\n",
      "Metric #5: # Bronze Medals\n",
      "Metric #8: # Gold Medals\n",
      "Metric #9: # Medals\n",
      "Metric #10: # Silver Medals\n",
      "Type the # of metric you want..\n",
      "By what you want to slice this metric: medals\n",
      "             Yoursearch  Your_metric\n",
      "0           Afghanistan          2.0\n",
      "1               Algeria         17.0\n",
      "2             Argentina        274.0\n",
      "3               Armenia         16.0\n",
      "4             Australia       1349.0\n",
      "..                  ...          ...\n",
      "132           Venezuela         15.0\n",
      "133             Vietnam          4.0\n",
      "134  Virgin Islands, US          1.0\n",
      "135              Zambia          2.0\n",
      "136            Zimbabwe         22.0\n",
      "\n",
      "[137 rows x 2 columns]\n",
      "By what else you want to slice it?\n",
      "  Yoursearch  Your_metric\n",
      "0     Bronze      13295.0\n",
      "1       Gold      13372.0\n",
      "2     Silver      13116.0\n",
      "By what else you want to slice it?\n"
     ]
    }
   ],
   "source": [
    "# GoodPandas object and dataframe\n",
    "good_pandas = GoodPandas(host=HOST, token=TOKEN)\n",
    "frames = good_pandas.data_frames(WORKSPACE_ID)\n",
    "UserMetric = \"\"\n",
    "SliceBy = \"\"\n",
    "\n",
    "while True:\n",
    "    search = input(\"What Metric do you search? Type the search word or Metric ID. You can exit by typing q\")\n",
    "    res = {}\n",
    "    if search == 'q':\n",
    "        break\n",
    "    print(f\"Searched word {search} was found in following metrics:\")\n",
    "    for m in catalog.metrics:\n",
    "        if search.lower() in m.title.lower():\n",
    "            print(f\"Metric #{catalog.metrics.index(m)}: {m.title}\")\n",
    "    break\n",
    "print(\"Type the # of metric you want..\")\n",
    "\n",
    "while True:\n",
    "    search = input(\"Type the # of metric you want to slice. You can exit by typing q\")\n",
    "    res = {}\n",
    "    if search == 'q':\n",
    "        break\n",
    "    for m in catalog.metrics:\n",
    "        if search==str(catalog.metrics.index(m)): #reading the catalogue of metrics from Python SDK method\n",
    "            UserMetric = m.id\n",
    "    break\n",
    "print(\"By what you want to slice this metric: \"+UserMetric)\n",
    "\n",
    "while True:\n",
    "    search = input(\"What do you want the metric to be sliced by? (mind the dot notation) You can exit by typing q\")\n",
    "    res = {}\n",
    "    if search == 'q':\n",
    "        break\n",
    "    df = frames.not_indexed(columns=dict(   #creating a data frame by metric & chosen slicing\n",
    "        Yoursearch='label/'+search,           \n",
    "        Your_metric='metric/'+UserMetric\n",
    "    ))\n",
    "    print(df)\n",
    "    print(\"By what else you want to slice it?\")\n",
    "    #break"
   ]
  }
 ],
 "metadata": {
  "interpreter": {
   "hash": "aee8b7b246df8f9039afb4144a1f6fd8d2ca17a180786b69acc140d282b71a49"
  },
  "kernelspec": {
   "display_name": "Python 3 (ipykernel)",
   "language": "python",
   "name": "python3"
  },
  "language_info": {
   "codemirror_mode": {
    "name": "ipython",
    "version": 3
   },
   "file_extension": ".py",
   "mimetype": "text/x-python",
   "name": "python",
   "nbconvert_exporter": "python",
   "pygments_lexer": "ipython3",
   "version": "3.10.2"
  },
  "orig_nbformat": 4
 },
 "nbformat": 4,
 "nbformat_minor": 2
}
